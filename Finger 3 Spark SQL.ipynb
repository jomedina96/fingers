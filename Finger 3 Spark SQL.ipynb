{
 "cells": [
  {
   "cell_type": "code",
   "execution_count": 1,
   "metadata": {},
   "outputs": [],
   "source": [
    "import pyspark\n",
    "from pyspark.sql import *\n",
    "\n",
    "try: \n",
    "    type(sc)\n",
    "except NameError:\n",
    "    sc = pyspark.SparkContext('local[*]')"
   ]
  },
  {
   "cell_type": "code",
   "execution_count": 2,
   "metadata": {},
   "outputs": [],
   "source": [
    "spark = SparkSession \\\n",
    "    .builder \\\n",
    "    .appName(\"Python Spark SQL basic example\") \\\n",
    "    .getOrCreate()"
   ]
  },
  {
   "cell_type": "code",
   "execution_count": 3,
   "metadata": {},
   "outputs": [],
   "source": [
    "df_airline = spark.read.csv(\"airlines.csv\", sep=\",\", inferSchema=\"true\", header=\"true\")\n",
    "df_airports = spark.read.csv(\"airports.csv\", sep=\",\", inferSchema=\"true\", header=\"true\")\n",
    "df_flights = spark.read.csv(\"flights.csv\", sep=\",\", inferSchema=\"true\", header=\"true\")"
   ]
  },
  {
   "cell_type": "code",
   "execution_count": 4,
   "metadata": {},
   "outputs": [],
   "source": [
    "df_airline.createOrReplaceTempView(\"airlines\")\n",
    "df_airports.createOrReplaceTempView(\"airports\")\n",
    "df_flights.createOrReplaceTempView(\"flights\")"
   ]
  },
  {
   "cell_type": "code",
   "execution_count": 5,
   "metadata": {},
   "outputs": [
    {
     "data": {
      "text/plain": [
       "['IATA_CODE', 'AIRLINE']"
      ]
     },
     "execution_count": 5,
     "metadata": {},
     "output_type": "execute_result"
    }
   ],
   "source": [
    "df_airline.columns"
   ]
  },
  {
   "cell_type": "code",
   "execution_count": 6,
   "metadata": {},
   "outputs": [
    {
     "data": {
      "text/plain": [
       "['YEAR',\n",
       " 'MONTH',\n",
       " 'DAY',\n",
       " 'DAY_OF_WEEK',\n",
       " 'AIRLINE',\n",
       " 'FLIGHT_NUMBER',\n",
       " 'TAIL_NUMBER',\n",
       " 'ORIGIN_AIRPORT',\n",
       " 'DESTINATION_AIRPORT',\n",
       " 'SCHEDULED_DEPARTURE',\n",
       " 'DEPARTURE_TIME',\n",
       " 'DEPARTURE_DELAY',\n",
       " 'TAXI_OUT',\n",
       " 'WHEELS_OFF',\n",
       " 'SCHEDULED_TIME',\n",
       " 'ELAPSED_TIME',\n",
       " 'AIR_TIME',\n",
       " 'DISTANCE',\n",
       " 'WHEELS_ON',\n",
       " 'TAXI_IN',\n",
       " 'SCHEDULED_ARRIVAL',\n",
       " 'ARRIVAL_TIME',\n",
       " 'ARRIVAL_DELAY',\n",
       " 'DIVERTED',\n",
       " 'CANCELLED',\n",
       " 'CANCELLATION_REASON',\n",
       " 'AIR_SYSTEM_DELAY',\n",
       " 'SECURITY_DELAY',\n",
       " 'AIRLINE_DELAY',\n",
       " 'LATE_AIRCRAFT_DELAY',\n",
       " 'WEATHER_DELAY']"
      ]
     },
     "execution_count": 6,
     "metadata": {},
     "output_type": "execute_result"
    }
   ],
   "source": [
    "df_flights.columns"
   ]
  },
  {
   "cell_type": "markdown",
   "metadata": {},
   "source": [
    "# PUNTO 1"
   ]
  },
  {
   "cell_type": "code",
   "execution_count": 7,
   "metadata": {},
   "outputs": [
    {
     "name": "stdout",
     "output_type": "stream",
     "text": [
      "+--------------------+---------------+\n",
      "|             AIRPORT|total_cancelled|\n",
      "+--------------------+---------------+\n",
      "|Chicago O'Hare In...|           8548|\n",
      "|Dallas/Fort Worth...|           6254|\n",
      "|LaGuardia Airport...|           4531|\n",
      "|Newark Liberty In...|           3110|\n",
      "|Gen. Edward Lawre...|           2654|\n",
      "+--------------------+---------------+\n",
      "\n"
     ]
    }
   ],
   "source": [
    "query = 'SELECT airports.AIRPORT, COUNT(*) as total_cancelled \\\n",
    "          FROM airports INNER JOIN flights \\\n",
    "          ON airports.IATA_CODE = flights.ORIGIN_AIRPORT \\\n",
    "          WHERE flights.CANCELLED = 1 \\\n",
    "          GROUP BY airports.AIRPORT \\\n",
    "          ORDER BY total_cancelled DESC\\\n",
    "          LIMIT 5'\n",
    "\n",
    "df_sql = spark.sql(query);\n",
    "\n",
    "spark.sql(query).show()"
   ]
  },
  {
   "cell_type": "markdown",
   "metadata": {},
   "source": [
    "# PUNTO 2"
   ]
  },
  {
   "cell_type": "code",
   "execution_count": 8,
   "metadata": {},
   "outputs": [
    {
     "name": "stdout",
     "output_type": "stream",
     "text": [
      "+--------------------+------------+\n",
      "|             AIRLINE|total_vuelos|\n",
      "+--------------------+------------+\n",
      "|Delta Air Lines Inc.|        3624|\n",
      "|Southwest Airline...|         962|\n",
      "|American Airlines...|         765|\n",
      "|Frontier Airlines...|         215|\n",
      "|    Spirit Air Lines|         103|\n",
      "+--------------------+------------+\n",
      "\n"
     ]
    }
   ],
   "source": [
    "query = 'SELECT airlines.AIRLINE, COUNT(*) as total_vuelos\\\n",
    "        FROM flights INNER JOIN airlines\\\n",
    "        ON airlines.IATA_CODE = flights.AIRLINE\\\n",
    "        WHERE ORIGIN_AIRPORT=\"ATL\" AND DESTINATION_AIRPORT = \"LAX\"\\\n",
    "        GROUP BY airlines.AIRLINE\\\n",
    "        ORDER BY total_vuelos DESC'\n",
    "\n",
    "\n",
    "df_sql = spark.sql(query);\n",
    "\n",
    "spark.sql(query).show()"
   ]
  },
  {
   "cell_type": "markdown",
   "metadata": {},
   "source": [
    "# PUNTO 3"
   ]
  },
  {
   "cell_type": "code",
   "execution_count": 9,
   "metadata": {},
   "outputs": [
    {
     "name": "stdout",
     "output_type": "stream",
     "text": [
      "== Parsed Logical Plan ==\n",
      "'Sort ['total_vuelos DESC NULLS LAST], true\n",
      "+- 'Aggregate ['airlines.AIRLINE], ['airlines.AIRLINE, 'COUNT(1) AS total_vuelos#159]\n",
      "   +- 'Filter (('ORIGIN_AIRPORT = ATL) && ('DESTINATION_AIRPORT = LAX))\n",
      "      +- 'Join Inner, ('airlines.IATA_CODE = 'flights.AIRLINE)\n",
      "         :- 'UnresolvedRelation `flights`\n",
      "         +- 'UnresolvedRelation `airlines`\n",
      "\n",
      "== Analyzed Logical Plan ==\n",
      "AIRLINE: string, total_vuelos: bigint\n",
      "Sort [total_vuelos#159L DESC NULLS LAST], true\n",
      "+- Aggregate [AIRLINE#11], [AIRLINE#11, count(1) AS total_vuelos#159L]\n",
      "   +- Filter ((ORIGIN_AIRPORT#55 = ATL) && (DESTINATION_AIRPORT#56 = LAX))\n",
      "      +- Join Inner, (IATA_CODE#10 = AIRLINE#52)\n",
      "         :- SubqueryAlias flights\n",
      "         :  +- Relation[YEAR#48,MONTH#49,DAY#50,DAY_OF_WEEK#51,AIRLINE#52,FLIGHT_NUMBER#53,TAIL_NUMBER#54,ORIGIN_AIRPORT#55,DESTINATION_AIRPORT#56,SCHEDULED_DEPARTURE#57,DEPARTURE_TIME#58,DEPARTURE_DELAY#59,TAXI_OUT#60,WHEELS_OFF#61,SCHEDULED_TIME#62,ELAPSED_TIME#63,AIR_TIME#64,DISTANCE#65,WHEELS_ON#66,TAXI_IN#67,SCHEDULED_ARRIVAL#68,ARRIVAL_TIME#69,ARRIVAL_DELAY#70,DIVERTED#71,... 7 more fields] csv\n",
      "         +- SubqueryAlias airlines\n",
      "            +- Relation[IATA_CODE#10,AIRLINE#11] csv\n",
      "\n",
      "== Optimized Logical Plan ==\n",
      "Sort [total_vuelos#159L DESC NULLS LAST], true\n",
      "+- Aggregate [AIRLINE#11], [AIRLINE#11, count(1) AS total_vuelos#159L]\n",
      "   +- Project [AIRLINE#11]\n",
      "      +- Join Inner, (IATA_CODE#10 = AIRLINE#52)\n",
      "         :- Project [AIRLINE#52]\n",
      "         :  +- Filter ((((isnotnull(ORIGIN_AIRPORT#55) && isnotnull(DESTINATION_AIRPORT#56)) && (ORIGIN_AIRPORT#55 = ATL)) && (DESTINATION_AIRPORT#56 = LAX)) && isnotnull(AIRLINE#52))\n",
      "         :     +- Relation[YEAR#48,MONTH#49,DAY#50,DAY_OF_WEEK#51,AIRLINE#52,FLIGHT_NUMBER#53,TAIL_NUMBER#54,ORIGIN_AIRPORT#55,DESTINATION_AIRPORT#56,SCHEDULED_DEPARTURE#57,DEPARTURE_TIME#58,DEPARTURE_DELAY#59,TAXI_OUT#60,WHEELS_OFF#61,SCHEDULED_TIME#62,ELAPSED_TIME#63,AIR_TIME#64,DISTANCE#65,WHEELS_ON#66,TAXI_IN#67,SCHEDULED_ARRIVAL#68,ARRIVAL_TIME#69,ARRIVAL_DELAY#70,DIVERTED#71,... 7 more fields] csv\n",
      "         +- Filter isnotnull(IATA_CODE#10)\n",
      "            +- Relation[IATA_CODE#10,AIRLINE#11] csv\n",
      "\n",
      "== Physical Plan ==\n",
      "*(4) Sort [total_vuelos#159L DESC NULLS LAST], true, 0\n",
      "+- Exchange rangepartitioning(total_vuelos#159L DESC NULLS LAST, 200)\n",
      "   +- *(3) HashAggregate(keys=[AIRLINE#11], functions=[count(1)], output=[AIRLINE#11, total_vuelos#159L])\n",
      "      +- Exchange hashpartitioning(AIRLINE#11, 200)\n",
      "         +- *(2) HashAggregate(keys=[AIRLINE#11], functions=[partial_count(1)], output=[AIRLINE#11, count#165L])\n",
      "            +- *(2) Project [AIRLINE#11]\n",
      "               +- *(2) BroadcastHashJoin [AIRLINE#52], [IATA_CODE#10], Inner, BuildRight\n",
      "                  :- *(2) Project [AIRLINE#52]\n",
      "                  :  +- *(2) Filter ((((isnotnull(ORIGIN_AIRPORT#55) && isnotnull(DESTINATION_AIRPORT#56)) && (ORIGIN_AIRPORT#55 = ATL)) && (DESTINATION_AIRPORT#56 = LAX)) && isnotnull(AIRLINE#52))\n",
      "                  :     +- *(2) FileScan csv [AIRLINE#52,ORIGIN_AIRPORT#55,DESTINATION_AIRPORT#56] Batched: false, Format: CSV, Location: InMemoryFileIndex[file:/C:/Users/jonat/Downloads/flight-delays/flights.csv], PartitionFilters: [], PushedFilters: [IsNotNull(ORIGIN_AIRPORT), IsNotNull(DESTINATION_AIRPORT), EqualTo(ORIGIN_AIRPORT,ATL), EqualTo(..., ReadSchema: struct<AIRLINE:string,ORIGIN_AIRPORT:string,DESTINATION_AIRPORT:string>\n",
      "                  +- BroadcastExchange HashedRelationBroadcastMode(List(input[0, string, true]))\n",
      "                     +- *(1) Project [IATA_CODE#10, AIRLINE#11]\n",
      "                        +- *(1) Filter isnotnull(IATA_CODE#10)\n",
      "                           +- *(1) FileScan csv [IATA_CODE#10,AIRLINE#11] Batched: false, Format: CSV, Location: InMemoryFileIndex[file:/C:/Users/jonat/Downloads/flight-delays/airlines.csv], PartitionFilters: [], PushedFilters: [IsNotNull(IATA_CODE)], ReadSchema: struct<IATA_CODE:string,AIRLINE:string>\n"
     ]
    }
   ],
   "source": [
    "spark.sql(query).explain(True)"
   ]
  },
  {
   "cell_type": "markdown",
   "metadata": {},
   "source": [
    "a) Se produce un filter pushdown en Optimized Logical Plan.\n",
    "b) Se produce un BroadcastHashJoin "
   ]
  },
  {
   "cell_type": "code",
   "execution_count": null,
   "metadata": {},
   "outputs": [],
   "source": []
  },
  {
   "cell_type": "code",
   "execution_count": null,
   "metadata": {},
   "outputs": [],
   "source": []
  }
 ],
 "metadata": {
  "kernelspec": {
   "display_name": "Python 3",
   "language": "python",
   "name": "python3"
  },
  "language_info": {
   "codemirror_mode": {
    "name": "ipython",
    "version": 3
   },
   "file_extension": ".py",
   "mimetype": "text/x-python",
   "name": "python",
   "nbconvert_exporter": "python",
   "pygments_lexer": "ipython3",
   "version": "3.6.5"
  }
 },
 "nbformat": 4,
 "nbformat_minor": 2
}
